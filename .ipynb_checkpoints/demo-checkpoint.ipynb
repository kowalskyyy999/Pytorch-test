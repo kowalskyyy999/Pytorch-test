{
 "cells": [
  {
   "cell_type": "code",
   "execution_count": 1,
   "metadata": {},
   "outputs": [],
   "source": [
    "import models\n",
    "import utils\n",
    "import metric\n",
    "\n",
    "import idx2numpy\n",
    "import matplotlib.pyplot as plt\n",
    "\n",
    "import torch\n",
    "import torch.nn as nn \n",
    "import torch.optim as optim\n",
    "import torch.nn.functional as F"
   ]
  },
  {
   "cell_type": "code",
   "execution_count": 2,
   "metadata": {},
   "outputs": [],
   "source": [
    "class Prediction:\n",
    "    def __init__(self, model, device):\n",
    "        self.model = model.to(device)\n",
    "        self.device = device\n",
    "    \n",
    "    def single_predict(self, index = 100):\n",
    "        imagesArray = idx2numpy.convert_from_file('./data/t10k-images-idx3-ubyte')\n",
    "        imagesLabels = idx2numpy.convert_from_file('./data/t10k-labels-idx1-ubyte')\n",
    "        image = imagesArray[index]\n",
    "        image_tensor = torch.tensor(image).float()\n",
    "        image_tensor = image_tensor.view(-1)\n",
    "        image_tensor = image_tensor.unsqueeze(0)\n",
    "        out = self.model(image_tensor.to(device=self.device))\n",
    "        out = out.squeeze(0)\n",
    "        prob = F.softmax(out, dim=-1)\n",
    "        pred = torch.argmax(out, dim=-1)\n",
    "        pred_numpy = pred.detach().cpu().numpy()\n",
    "    \n",
    "        plt.figure(figsize=(10, 8))\n",
    "        plt.title(f'Ground Truth : {imagesLabels[index]} -- Prediction: {pred_numpy}', fontsize=14)\n",
    "        plt.imshow(image, cmap = plt.cm.binary)\n",
    "        \n",
    "        return pred_numpy\n",
    "        \n",
    "        \n",
    "    \n",
    "        \n",
    "        "
   ]
  },
  {
   "cell_type": "code",
   "execution_count": 3,
   "metadata": {},
   "outputs": [
    {
     "name": "stderr",
     "output_type": "stream",
     "text": [
      "C:\\Users\\acer\\Anaconda3\\envs\\python\\lib\\site-packages\\ipykernel_launcher.py:10: UserWarning: The given NumPy array is not writeable, and PyTorch does not support non-writeable tensors. This means you can write to the underlying (supposedly non-writeable) NumPy array using the tensor. You may want to copy the array to protect its data or make it writeable before converting it to a tensor. This type of warning will be suppressed for the rest of this program. (Triggered internally at  ..\\torch\\csrc\\utils\\tensor_numpy.cpp:141.)\n",
      "  # Remove the CWD from sys.path while we load stuff.\n"
     ]
    },
    {
     "data": {
      "image/png": "[encoded data removed]",
      "text/plain": [
       "<Figure size 720x576 with 1 Axes>"
      ]
     },
     "metadata": {
      "needs_background": "light"
     },
     "output_type": "display_data"
    }
   ],
   "source": [
    "device = torch.device('cuda' if torch.cuda.is_available() else 'cpu')\n",
    "model = models.MNISTNeuralNetwork()\n",
    "model.load_state_dict(torch.load('./model.pth'))\n",
    "prediction = Prediction(model, device)\n",
    "pred_labels = prediction.single_predict(index = 67)"
   ]
  },
  {
   "cell_type": "code",
   "execution_count": null,
   "metadata": {},
   "outputs": [],
   "source": []
  }
 ],
 "metadata": {
  "kernelspec": {
   "display_name": "Python 3",
   "language": "python",
   "name": "python3"
  },
  "language_info": {
   "codemirror_mode": {
    "name": "ipython",
    "version": 3
   },
   "file_extension": ".py",
   "mimetype": "text/x-python",
   "name": "python",
   "nbconvert_exporter": "python",
   "pygments_lexer": "ipython3",
   "version": "3.6.10"
  }
 },
 "nbformat": 4,
 "nbformat_minor": 4
}
